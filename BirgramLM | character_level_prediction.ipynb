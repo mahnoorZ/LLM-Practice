{
 "cells": [
  {
   "cell_type": "code",
   "execution_count": 99,
   "id": "71f1e8c0-a69d-44de-ba79-a26f2843d283",
   "metadata": {},
   "outputs": [],
   "source": [
    "import numpy as np\n",
    "import torch\n",
    "import torch.nn as nn\n",
    "import tensorflow as tf\n",
    "import matplotlib.pyplot as plt"
   ]
  },
  {
   "cell_type": "code",
   "execution_count": 100,
   "id": "a96770b5-3aae-4978-82b3-47cab3e69411",
   "metadata": {},
   "outputs": [
    {
     "name": "stdout",
     "output_type": "stream",
     "text": [
      "cpu\n"
     ]
    }
   ],
   "source": [
    "device = 'cuda' if torch.cuda.is_available() else 'cpu'\n",
    "print(device)"
   ]
  },
  {
   "cell_type": "markdown",
   "id": "6a936c6e-0976-48b6-9908-9b72d5a99b30",
   "metadata": {},
   "source": [
    "## Data Preprocessing"
   ]
  },
  {
   "cell_type": "code",
   "execution_count": 101,
   "id": "a8558bb6-6511-438b-bcd8-5497415c2fe7",
   "metadata": {},
   "outputs": [
    {
     "name": "stdout",
     "output_type": "stream",
     "text": [
      "['\\n', ' ', '!', '&', '(', ')', '*', ',', '-', '.', '0', '1', '2', '3', '4', '5', '6', '7', '8', '9', ':', ';', '?', 'A', 'B', 'C', 'D', 'E', 'F', 'G', 'H', 'I', 'J', 'K', 'L', 'M', 'N', 'O', 'P', 'Q', 'R', 'S', 'T', 'U', 'V', 'W', 'X', 'Y', 'Z', '_', 'a', 'b', 'c', 'd', 'e', 'f', 'g', 'h', 'i', 'j', 'k', 'l', 'm', 'n', 'o', 'p', 'q', 'r', 's', 't', 'u', 'v', 'w', 'x', 'y', 'z', '£', '½', 'à', 'â', 'æ', 'è', 'é', 'œ', '—', '‘', '’', '“', '”']\n"
     ]
    }
   ],
   "source": [
    "with open('dataset.txt', 'r', encoding='utf-8') as f:\n",
    "    text = f.read()\n",
    "\n",
    "chars = sorted(set(text))\n",
    "print(chars)"
   ]
  },
  {
   "cell_type": "code",
   "execution_count": 102,
   "id": "94ad142e-f3b0-4bb4-bda4-6c21f5b56f06",
   "metadata": {},
   "outputs": [
    {
     "name": "stdout",
     "output_type": "stream",
     "text": [
      "{'\\n': 0, ' ': 1, '!': 2, '&': 3, '(': 4, ')': 5, '*': 6, ',': 7, '-': 8, '.': 9, '0': 10, '1': 11, '2': 12, '3': 13, '4': 14, '5': 15, '6': 16, '7': 17, '8': 18, '9': 19, ':': 20, ';': 21, '?': 22, 'A': 23, 'B': 24, 'C': 25, 'D': 26, 'E': 27, 'F': 28, 'G': 29, 'H': 30, 'I': 31, 'J': 32, 'K': 33, 'L': 34, 'M': 35, 'N': 36, 'O': 37, 'P': 38, 'Q': 39, 'R': 40, 'S': 41, 'T': 42, 'U': 43, 'V': 44, 'W': 45, 'X': 46, 'Y': 47, 'Z': 48, '_': 49, 'a': 50, 'b': 51, 'c': 52, 'd': 53, 'e': 54, 'f': 55, 'g': 56, 'h': 57, 'i': 58, 'j': 59, 'k': 60, 'l': 61, 'm': 62, 'n': 63, 'o': 64, 'p': 65, 'q': 66, 'r': 67, 's': 68, 't': 69, 'u': 70, 'v': 71, 'w': 72, 'x': 73, 'y': 74, 'z': 75, '£': 76, '½': 77, 'à': 78, 'â': 79, 'æ': 80, 'è': 81, 'é': 82, 'œ': 83, '—': 84, '‘': 85, '’': 86, '“': 87, '”': 88}\n",
      "{0: '\\n', 1: ' ', 2: '!', 3: '&', 4: '(', 5: ')', 6: '*', 7: ',', 8: '-', 9: '.', 10: '0', 11: '1', 12: '2', 13: '3', 14: '4', 15: '5', 16: '6', 17: '7', 18: '8', 19: '9', 20: ':', 21: ';', 22: '?', 23: 'A', 24: 'B', 25: 'C', 26: 'D', 27: 'E', 28: 'F', 29: 'G', 30: 'H', 31: 'I', 32: 'J', 33: 'K', 34: 'L', 35: 'M', 36: 'N', 37: 'O', 38: 'P', 39: 'Q', 40: 'R', 41: 'S', 42: 'T', 43: 'U', 44: 'V', 45: 'W', 46: 'X', 47: 'Y', 48: 'Z', 49: '_', 50: 'a', 51: 'b', 52: 'c', 53: 'd', 54: 'e', 55: 'f', 56: 'g', 57: 'h', 58: 'i', 59: 'j', 60: 'k', 61: 'l', 62: 'm', 63: 'n', 64: 'o', 65: 'p', 66: 'q', 67: 'r', 68: 's', 69: 't', 70: 'u', 71: 'v', 72: 'w', 73: 'x', 74: 'y', 75: 'z', 76: '£', 77: '½', 78: 'à', 79: 'â', 80: 'æ', 81: 'è', 82: 'é', 83: 'œ', 84: '—', 85: '‘', 86: '’', 87: '“', 88: '”'}\n"
     ]
    }
   ],
   "source": [
    "string_to_int = { ch:i for i,ch in enumerate(chars) }\n",
    "int_to_string = { i:ch for i,ch in enumerate(chars) }\n",
    "print (string_to_int)\n",
    "print (int_to_string)\n"
   ]
  },
  {
   "cell_type": "code",
   "execution_count": 103,
   "id": "520602ba-732f-449b-a0ce-7b6c9c18ab31",
   "metadata": {},
   "outputs": [],
   "source": [
    "string_to_int = { ch:i for i,ch in enumerate(chars) }\n",
    "int_to_string = { i:ch for i,ch in enumerate(chars) }\n",
    "encode = lambda s: [string_to_int[c] for c in s]\n",
    "decode = lambda l: ''.join([int_to_string[i] for i in l])\n",
    "\n",
    "data = encode(text)"
   ]
  },
  {
   "cell_type": "code",
   "execution_count": 104,
   "id": "d9f6e341-7b73-4fec-95c7-c282b1ac4e1c",
   "metadata": {},
   "outputs": [
    {
     "name": "stdout",
     "output_type": "stream",
     "text": [
      "50\n"
     ]
    }
   ],
   "source": [
    "print(string_to_int['a'])"
   ]
  },
  {
   "cell_type": "code",
   "execution_count": 105,
   "id": "bb354aca-39d7-4e98-bc59-7fea8b6b8fe9",
   "metadata": {},
   "outputs": [],
   "source": [
    "# Encoding: Input=abc , output= [51 52 53] # the integer values assigned to the unique characters in the list\n",
    "# encode = lambda s: [string_to_int[c] for c in s] is the easier version of doing the same thing \n",
    "\n",
    "def encode(list_of_characters, string_to_int):\n",
    "    encoded_value=[]\n",
    "    for char in list_of_characters:\n",
    "        encoded_value.append(string_to_int[char])\n",
    "    \n",
    "    return encoded_value\n",
    "\n",
    "#encoded_value = encode('abc', string_to_int)\n",
    "#print(encoded_value) # [50, 51, 52]\n"
   ]
  },
  {
   "cell_type": "code",
   "execution_count": 106,
   "id": "7c87136f-a30e-4fbd-8b1a-f3e59ef4ac59",
   "metadata": {},
   "outputs": [],
   "source": [
    "# Inverse version of encoding \n",
    "\n",
    "def decode(list_of_encoded_int, int_to_string):\n",
    "    decoded_value=[]\n",
    "    for int in list_of_encoded_int:\n",
    "        (decoded_value.append(int_to_string[int]))\n",
    "\n",
    "    return ''.join(decoded_value)\n"
   ]
  },
  {
   "cell_type": "code",
   "execution_count": 107,
   "id": "997c2cad-e1d2-4b0d-baa6-4cc27cf64e52",
   "metadata": {},
   "outputs": [
    {
     "name": "stdout",
     "output_type": "stream",
     "text": [
      "[57, 54, 61, 61, 64]\n",
      "hello\n"
     ]
    }
   ],
   "source": [
    "encoded_value = encode('hello', string_to_int)\n",
    "print(encoded_value)\n",
    "decoded_value = decode(encoded_value, int_to_string)\n",
    "print(decoded_value)"
   ]
  },
  {
   "cell_type": "code",
   "execution_count": 168,
   "id": "2cd1413b-a311-4aa8-80d3-46e81cb5e926",
   "metadata": {},
   "outputs": [],
   "source": [
    "data = encode(text, string_to_int)\n",
    "ratio = 0.8\n",
    "train_data = data[: int(ratio*len(data))]\n",
    "valid_data = data[int(ratio*len(data)): len(data)]\n",
    "vocab_size = len(chars) # number of individual characters"
   ]
  },
  {
   "cell_type": "code",
   "execution_count": 169,
   "id": "fb97d75c-3dcc-4b27-9435-fed9086bad6e",
   "metadata": {},
   "outputs": [
    {
     "name": "stdout",
     "output_type": "stream",
     "text": [
      "562286\n",
      "449828\n",
      "112458\n"
     ]
    }
   ],
   "source": [
    "print(len(data))\n",
    "print(len(train_data))\n",
    "print(len(valid_data))"
   ]
  },
  {
   "cell_type": "code",
   "execution_count": 170,
   "id": "2e67f1a7-ec95-492f-9358-26266e8b1859",
   "metadata": {},
   "outputs": [],
   "source": [
    "# without block sizing\n",
    "# Here input sequence in just a single character\n",
    "# output is predicted as a next character based on just one previous character.\n",
    "# this can be called as block size = 1\n",
    "# the model predicts pe the the the the the the the the the the the the\n",
    "# Not bad!!!\n",
    "\n",
    "input_seq = train_data[:int(len(train_data))-1]\n",
    "label = train_data[1:int(len(train_data))]\n",
    "\n",
    "valid_input_seq = valid_data[: int(len(valid_data))-1]\n",
    "valid_label = valid_data[1: int(len(valid_data))]\n",
    "\n",
    "# Now considering the block size of 5\n",
    "# based on previous five characters, the next character is predicted.\n",
    "# I assume the better performance now \n",
    "# bs is the block size\n",
    "\n",
    "block_size = 8\n",
    "input_seq_bs = []\n",
    "label_bs = []\n",
    "valid_input_seq_bs= []\n",
    "valid_label_bs = []\n",
    "\n",
    "for i in range(len(train_data)-block_size):\n",
    "    input_seq_bs.append(train_data[i:i+block_size])\n",
    "    label_bs.append(train_data[i+block_size])\n",
    "\n",
    "for i in range(len(valid_data)-block_size):\n",
    "    valid_input_seq_bs.append(valid_data[i:i+block_size])\n",
    "    valid_label_bs.append(valid_data[i+block_size])\n",
    "    "
   ]
  },
  {
   "cell_type": "code",
   "execution_count": 171,
   "id": "1e129ae7-db40-4426-ba7d-83896fdc20fa",
   "metadata": {},
   "outputs": [
    {
     "name": "stdout",
     "output_type": "stream",
     "text": [
      "[[42, 57, 54, 1, 23, 53, 71, 54], [57, 54, 1, 23, 53, 71, 54, 63], [54, 1, 23, 53, 71, 54, 63, 69]]\n",
      "[63, 69, 70]\n"
     ]
    }
   ],
   "source": [
    "print(input_seq_bs[:3])\n",
    "print(label_bs[:3])"
   ]
  },
  {
   "cell_type": "code",
   "execution_count": 172,
   "id": "287775c5-70db-4425-a83e-a80c0fa6b210",
   "metadata": {},
   "outputs": [
    {
     "name": "stdout",
     "output_type": "stream",
     "text": [
      "[42, 57, 54, 1, 23, 53, 71, 54, 63, 69]\n",
      "[57, 54, 1, 23, 53, 71, 54, 63, 69, 70]\n"
     ]
    }
   ],
   "source": [
    "print(input_seq[:10])\n",
    "print(label[:10])"
   ]
  },
  {
   "cell_type": "code",
   "execution_count": 160,
   "id": "c4f4567b-6ef8-4c5d-b4a3-77b3f3223777",
   "metadata": {},
   "outputs": [],
   "source": [
    "input_seq =  torch.tensor(input_seq)\n",
    "label = torch.tensor(label)\n",
    "\n",
    "valid_input_seq = torch.tensor(valid_input_seq)\n",
    "valid_label = torch.tensor(valid_label)"
   ]
  },
  {
   "cell_type": "markdown",
   "id": "4d057261-8590-488c-af3d-4400e96671f8",
   "metadata": {},
   "source": [
    "## Steps\n",
    "\n",
    "1. Define Model, Include learning the embeddings of the character\n",
    "2. Input is the character\n",
    "3. Target is the next character\n",
    "4. Train with the optimizers"
   ]
  },
  {
   "cell_type": "markdown",
   "id": "0c1c01fd-b145-41e4-a5b6-8ccbc78dcf71",
   "metadata": {
    "jp-MarkdownHeadingCollapsed": true
   },
   "source": [
    "## Without Blocking"
   ]
  },
  {
   "cell_type": "code",
   "execution_count": 161,
   "id": "dffaca5b-a6ee-4cf5-9af9-0f01dfcdd624",
   "metadata": {},
   "outputs": [],
   "source": [
    "# Model \n",
    "# Start with the baasic model without block sizing\n",
    "\n",
    "embedding_dim = 8  # Dimension of the embedding space\n",
    "model = tf.keras.Sequential([\n",
    "    tf.keras.layers.Embedding(input_dim=vocab_size, output_dim=embedding_dim),  # Embedding layer\n",
    "    # tf.keras.layers.Embedding(input_dim=vocab_size, output_dim=vocab_size),  # Embedding layer\n",
    "    tf.keras.layers.Flatten(),  # Flatten the output of the embedding layer\n",
    "    tf.keras.layers.Dense(64, activation='relu'),  # A hidden dense layer with ReLU\n",
    "    tf.keras.layers.Dense(vocab_size, activation='softmax')  # Output layer to predict next character\n",
    "])"
   ]
  },
  {
   "cell_type": "code",
   "execution_count": 162,
   "id": "c5786ab0-b3b3-436c-ae53-958bb14bca80",
   "metadata": {},
   "outputs": [],
   "source": [
    "model.compile(optimizer='adam', loss='sparse_categorical_crossentropy')\n",
    "model_compiled = model.fit(input_seq, label, epochs=20, batch_size=32, validation_data=(valid_input_seq, valid_label), verbose=0)"
   ]
  },
  {
   "cell_type": "code",
   "execution_count": 163,
   "id": "d6a23652-60be-4ae6-b7ee-b031734db84f",
   "metadata": {},
   "outputs": [
    {
     "data": {
      "text/plain": [
       "Text(0, 0.5, 'Training Loss ')"
      ]
     },
     "execution_count": 163,
     "metadata": {},
     "output_type": "execute_result"
    },
    {
     "data": {
      "image/png": "[encoded data removed]",
      "text/plain": [
       "<Figure size 640x480 with 1 Axes>"
      ]
     },
     "metadata": {},
     "output_type": "display_data"
    }
   ],
   "source": [
    "loss = model_compiled.history['loss']\n",
    "plt.figure()\n",
    "plt.plot(loss)\n",
    "plt.title('Loss of the shallow NN with no feature')\n",
    "plt.xlabel('Epoch')\n",
    "plt.ylabel('Training Loss ')"
   ]
  },
  {
   "cell_type": "markdown",
   "id": "23967f9a-af06-42d7-ad45-3e1fbc7d975c",
   "metadata": {},
   "source": [
    "### Prediction based on model without blocking"
   ]
  },
  {
   "cell_type": "code",
   "execution_count": 167,
   "id": "23671e16-95b8-4185-af5f-6e26d1bcf7e6",
   "metadata": {},
   "outputs": [
    {
     "name": "stdout",
     "output_type": "stream",
     "text": [
      "[57]\n",
      "e the the the the the the the the the the the the \n"
     ]
    }
   ],
   "source": [
    "start_char = encode('h', string_to_int)\n",
    "current_char = start_char\n",
    "text_len = 50\n",
    "predicted_text = []\n",
    "# predicted_text.append(start_char)\n",
    "print(current_char)\n",
    "for i in range(text_len): \n",
    "    # predict_input_encode = torch.tensor(current_char)\n",
    "    predicted_probs = model.predict(torch.tensor(current_char), verbose=0)[0]\n",
    "    current_char = np.argmax(predicted_probs)\n",
    "    predicted_text.append(current_char)\n",
    "    current_char = [current_char]\n",
    "\n",
    "\n",
    "predicted_text_decoded = decode(predicted_text, int_to_string)\n",
    "print(predicted_text_decoded)\n"
   ]
  },
  {
   "cell_type": "markdown",
   "id": "b0c4d665-09a0-43dc-8bbe-9474e746ec7e",
   "metadata": {},
   "source": [
    "## Model with blocking"
   ]
  },
  {
   "cell_type": "code",
   "execution_count": 173,
   "id": "c73a5105-9774-4299-be01-92facb221531",
   "metadata": {},
   "outputs": [
    {
     "name": "stdout",
     "output_type": "stream",
     "text": [
      "Input shape: tf.Tensor([449820      8], shape=(2,), dtype=int32)\n",
      "Label shape: tf.Tensor([449820], shape=(1,), dtype=int32)\n",
      "Input shape: tf.Tensor([112450      8], shape=(2,), dtype=int32)\n",
      "Label shape: tf.Tensor([112450], shape=(1,), dtype=int32)\n"
     ]
    }
   ],
   "source": [
    "input_seq_bs =  torch.tensor(input_seq_bs)\n",
    "label_bs = torch.tensor(label_bs)\n",
    "\n",
    "valid_input_seq_bs = torch.tensor(valid_input_seq_bs)\n",
    "valid_label_bs = torch.tensor(valid_label_bs)\n",
    "\n",
    "print(\"Input shape:\", tf.shape(input_seq_bs))\n",
    "print(\"Label shape:\", tf.shape(label_bs))\n",
    "\n",
    "print(\"Input shape:\", tf.shape(valid_input_seq_bs))\n",
    "print(\"Label shape:\", tf.shape(valid_label_bs))"
   ]
  },
  {
   "cell_type": "code",
   "execution_count": 191,
   "id": "3db2fac8-d4ac-4500-84eb-d4b5fe55567e",
   "metadata": {},
   "outputs": [],
   "source": [
    "# Model including the block sizing \n",
    "embedding_dim = 16\n",
    "model_1 = tf.keras.Sequential([\n",
    "    tf.keras.layers.Embedding(input_dim=vocab_size, output_dim=embedding_dim),  # Embedding layer\n",
    "    tf.keras.layers.Flatten(),  # Flatten the output of the embedding layer\n",
    "    tf.keras.layers.Dense(64, activation='relu'),  # A hidden dense layer with ReLU\n",
    "    tf.keras.layers.Dense(vocab_size, activation='softmax')  # Output layer to predict next character\n",
    "])"
   ]
  },
  {
   "cell_type": "code",
   "execution_count": 192,
   "id": "e30cacc0-068b-45cd-85d5-f9d996d77c6f",
   "metadata": {},
   "outputs": [
    {
     "data": {
      "text/html": [
       "<pre style=\"white-space:pre;overflow-x:auto;line-height:normal;font-family:Menlo,'DejaVu Sans Mono',consolas,'Courier New',monospace\"><span style=\"font-weight: bold\">Model: \"sequential_21\"</span>\n",
       "</pre>\n"
      ],
      "text/plain": [
       "\u001b[1mModel: \"sequential_21\"\u001b[0m\n"
      ]
     },
     "metadata": {},
     "output_type": "display_data"
    },
    {
     "data": {
      "text/html": [
       "<pre style=\"white-space:pre;overflow-x:auto;line-height:normal;font-family:Menlo,'DejaVu Sans Mono',consolas,'Courier New',monospace\">┏━━━━━━━━━━━━━━━━━━━━━━━━━━━━━━━━━┳━━━━━━━━━━━━━━━━━━━━━━━━┳━━━━━━━━━━━━━━━┓\n",
       "┃<span style=\"font-weight: bold\"> Layer (type)                    </span>┃<span style=\"font-weight: bold\"> Output Shape           </span>┃<span style=\"font-weight: bold\">       Param # </span>┃\n",
       "┡━━━━━━━━━━━━━━━━━━━━━━━━━━━━━━━━━╇━━━━━━━━━━━━━━━━━━━━━━━━╇━━━━━━━━━━━━━━━┩\n",
       "│ embedding_21 (<span style=\"color: #0087ff; text-decoration-color: #0087ff\">Embedding</span>)        │ (<span style=\"color: #00af00; text-decoration-color: #00af00\">449820</span>, <span style=\"color: #00af00; text-decoration-color: #00af00\">8</span>, <span style=\"color: #00af00; text-decoration-color: #00af00\">16</span>)        │         <span style=\"color: #00af00; text-decoration-color: #00af00\">1,424</span> │\n",
       "├─────────────────────────────────┼────────────────────────┼───────────────┤\n",
       "│ flatten_16 (<span style=\"color: #0087ff; text-decoration-color: #0087ff\">Flatten</span>)            │ (<span style=\"color: #00af00; text-decoration-color: #00af00\">449820</span>, <span style=\"color: #00af00; text-decoration-color: #00af00\">128</span>)          │             <span style=\"color: #00af00; text-decoration-color: #00af00\">0</span> │\n",
       "├─────────────────────────────────┼────────────────────────┼───────────────┤\n",
       "│ dense_34 (<span style=\"color: #0087ff; text-decoration-color: #0087ff\">Dense</span>)                │ (<span style=\"color: #00af00; text-decoration-color: #00af00\">449820</span>, <span style=\"color: #00af00; text-decoration-color: #00af00\">64</span>)           │         <span style=\"color: #00af00; text-decoration-color: #00af00\">8,256</span> │\n",
       "├─────────────────────────────────┼────────────────────────┼───────────────┤\n",
       "│ dense_35 (<span style=\"color: #0087ff; text-decoration-color: #0087ff\">Dense</span>)                │ (<span style=\"color: #00af00; text-decoration-color: #00af00\">449820</span>, <span style=\"color: #00af00; text-decoration-color: #00af00\">89</span>)           │         <span style=\"color: #00af00; text-decoration-color: #00af00\">5,785</span> │\n",
       "└─────────────────────────────────┴────────────────────────┴───────────────┘\n",
       "</pre>\n"
      ],
      "text/plain": [
       "┏━━━━━━━━━━━━━━━━━━━━━━━━━━━━━━━━━┳━━━━━━━━━━━━━━━━━━━━━━━━┳━━━━━━━━━━━━━━━┓\n",
       "┃\u001b[1m \u001b[0m\u001b[1mLayer (type)                   \u001b[0m\u001b[1m \u001b[0m┃\u001b[1m \u001b[0m\u001b[1mOutput Shape          \u001b[0m\u001b[1m \u001b[0m┃\u001b[1m \u001b[0m\u001b[1m      Param #\u001b[0m\u001b[1m \u001b[0m┃\n",
       "┡━━━━━━━━━━━━━━━━━━━━━━━━━━━━━━━━━╇━━━━━━━━━━━━━━━━━━━━━━━━╇━━━━━━━━━━━━━━━┩\n",
       "│ embedding_21 (\u001b[38;5;33mEmbedding\u001b[0m)        │ (\u001b[38;5;34m449820\u001b[0m, \u001b[38;5;34m8\u001b[0m, \u001b[38;5;34m16\u001b[0m)        │         \u001b[38;5;34m1,424\u001b[0m │\n",
       "├─────────────────────────────────┼────────────────────────┼───────────────┤\n",
       "│ flatten_16 (\u001b[38;5;33mFlatten\u001b[0m)            │ (\u001b[38;5;34m449820\u001b[0m, \u001b[38;5;34m128\u001b[0m)          │             \u001b[38;5;34m0\u001b[0m │\n",
       "├─────────────────────────────────┼────────────────────────┼───────────────┤\n",
       "│ dense_34 (\u001b[38;5;33mDense\u001b[0m)                │ (\u001b[38;5;34m449820\u001b[0m, \u001b[38;5;34m64\u001b[0m)           │         \u001b[38;5;34m8,256\u001b[0m │\n",
       "├─────────────────────────────────┼────────────────────────┼───────────────┤\n",
       "│ dense_35 (\u001b[38;5;33mDense\u001b[0m)                │ (\u001b[38;5;34m449820\u001b[0m, \u001b[38;5;34m89\u001b[0m)           │         \u001b[38;5;34m5,785\u001b[0m │\n",
       "└─────────────────────────────────┴────────────────────────┴───────────────┘\n"
      ]
     },
     "metadata": {},
     "output_type": "display_data"
    },
    {
     "data": {
      "text/html": [
       "<pre style=\"white-space:pre;overflow-x:auto;line-height:normal;font-family:Menlo,'DejaVu Sans Mono',consolas,'Courier New',monospace\"><span style=\"font-weight: bold\"> Total params: </span><span style=\"color: #00af00; text-decoration-color: #00af00\">15,465</span> (60.41 KB)\n",
       "</pre>\n"
      ],
      "text/plain": [
       "\u001b[1m Total params: \u001b[0m\u001b[38;5;34m15,465\u001b[0m (60.41 KB)\n"
      ]
     },
     "metadata": {},
     "output_type": "display_data"
    },
    {
     "data": {
      "text/html": [
       "<pre style=\"white-space:pre;overflow-x:auto;line-height:normal;font-family:Menlo,'DejaVu Sans Mono',consolas,'Courier New',monospace\"><span style=\"font-weight: bold\"> Trainable params: </span><span style=\"color: #00af00; text-decoration-color: #00af00\">15,465</span> (60.41 KB)\n",
       "</pre>\n"
      ],
      "text/plain": [
       "\u001b[1m Trainable params: \u001b[0m\u001b[38;5;34m15,465\u001b[0m (60.41 KB)\n"
      ]
     },
     "metadata": {},
     "output_type": "display_data"
    },
    {
     "data": {
      "text/html": [
       "<pre style=\"white-space:pre;overflow-x:auto;line-height:normal;font-family:Menlo,'DejaVu Sans Mono',consolas,'Courier New',monospace\"><span style=\"font-weight: bold\"> Non-trainable params: </span><span style=\"color: #00af00; text-decoration-color: #00af00\">0</span> (0.00 B)\n",
       "</pre>\n"
      ],
      "text/plain": [
       "\u001b[1m Non-trainable params: \u001b[0m\u001b[38;5;34m0\u001b[0m (0.00 B)\n"
      ]
     },
     "metadata": {},
     "output_type": "display_data"
    }
   ],
   "source": [
    "model_1(input_seq_bs)\n",
    "model_1.summary()"
   ]
  },
  {
   "cell_type": "code",
   "execution_count": 193,
   "id": "1b6f1d85-7f72-4bde-9070-8d92e6b829ea",
   "metadata": {},
   "outputs": [
    {
     "name": "stdout",
     "output_type": "stream",
     "text": [
      "Epoch 1/100\n",
      "\u001b[1m14057/14057\u001b[0m \u001b[32m━━━━━━━━━━━━━━━━━━━━\u001b[0m\u001b[37m\u001b[0m \u001b[1m6s\u001b[0m 427us/step - loss: 2.3933 - val_loss: 1.9469\n",
      "Epoch 2/100\n",
      "\u001b[1m14057/14057\u001b[0m \u001b[32m━━━━━━━━━━━━━━━━━━━━\u001b[0m\u001b[37m\u001b[0m \u001b[1m6s\u001b[0m 430us/step - loss: 1.9161 - val_loss: 1.8528\n",
      "Epoch 3/100\n",
      "\u001b[1m14057/14057\u001b[0m \u001b[32m━━━━━━━━━━━━━━━━━━━━\u001b[0m\u001b[37m\u001b[0m \u001b[1m7s\u001b[0m 479us/step - loss: 1.8427 - val_loss: 1.8188\n",
      "Epoch 4/100\n",
      "\u001b[1m14057/14057\u001b[0m \u001b[32m━━━━━━━━━━━━━━━━━━━━\u001b[0m\u001b[37m\u001b[0m \u001b[1m6s\u001b[0m 417us/step - loss: 1.8078 - val_loss: 1.8013\n",
      "Epoch 5/100\n",
      "\u001b[1m14057/14057\u001b[0m \u001b[32m━━━━━━━━━━━━━━━━━━━━\u001b[0m\u001b[37m\u001b[0m \u001b[1m6s\u001b[0m 444us/step - loss: 1.7845 - val_loss: 1.7796\n",
      "Epoch 6/100\n",
      "\u001b[1m14057/14057\u001b[0m \u001b[32m━━━━━━━━━━━━━━━━━━━━\u001b[0m\u001b[37m\u001b[0m \u001b[1m6s\u001b[0m 433us/step - loss: 1.7685 - val_loss: 1.7784\n",
      "Epoch 7/100\n",
      "\u001b[1m14057/14057\u001b[0m \u001b[32m━━━━━━━━━━━━━━━━━━━━\u001b[0m\u001b[37m\u001b[0m \u001b[1m6s\u001b[0m 417us/step - loss: 1.7643 - val_loss: 1.7660\n",
      "Epoch 8/100\n",
      "\u001b[1m14057/14057\u001b[0m \u001b[32m━━━━━━━━━━━━━━━━━━━━\u001b[0m\u001b[37m\u001b[0m \u001b[1m6s\u001b[0m 419us/step - loss: 1.7491 - val_loss: 1.7647\n",
      "Epoch 9/100\n",
      "\u001b[1m14057/14057\u001b[0m \u001b[32m━━━━━━━━━━━━━━━━━━━━\u001b[0m\u001b[37m\u001b[0m \u001b[1m6s\u001b[0m 419us/step - loss: 1.7434 - val_loss: 1.7565\n",
      "Epoch 10/100\n",
      "\u001b[1m14057/14057\u001b[0m \u001b[32m━━━━━━━━━━━━━━━━━━━━\u001b[0m\u001b[37m\u001b[0m \u001b[1m6s\u001b[0m 424us/step - loss: 1.7431 - val_loss: 1.7510\n",
      "Epoch 11/100\n",
      "\u001b[1m14057/14057\u001b[0m \u001b[32m━━━━━━━━━━━━━━━━━━━━\u001b[0m\u001b[37m\u001b[0m \u001b[1m7s\u001b[0m 480us/step - loss: 1.7347 - val_loss: 1.7522\n",
      "Epoch 12/100\n",
      "\u001b[1m14057/14057\u001b[0m \u001b[32m━━━━━━━━━━━━━━━━━━━━\u001b[0m\u001b[37m\u001b[0m \u001b[1m6s\u001b[0m 422us/step - loss: 1.7286 - val_loss: 1.7432\n",
      "Epoch 13/100\n",
      "\u001b[1m14057/14057\u001b[0m \u001b[32m━━━━━━━━━━━━━━━━━━━━\u001b[0m\u001b[37m\u001b[0m \u001b[1m6s\u001b[0m 418us/step - loss: 1.7270 - val_loss: 1.7435\n",
      "Epoch 14/100\n",
      "\u001b[1m14057/14057\u001b[0m \u001b[32m━━━━━━━━━━━━━━━━━━━━\u001b[0m\u001b[37m\u001b[0m \u001b[1m6s\u001b[0m 434us/step - loss: 1.7210 - val_loss: 1.7468\n",
      "Epoch 15/100\n",
      "\u001b[1m14057/14057\u001b[0m \u001b[32m━━━━━━━━━━━━━━━━━━━━\u001b[0m\u001b[37m\u001b[0m \u001b[1m7s\u001b[0m 471us/step - loss: 1.7168 - val_loss: 1.7406\n",
      "Epoch 16/100\n",
      "\u001b[1m14057/14057\u001b[0m \u001b[32m━━━━━━━━━━━━━━━━━━━━\u001b[0m\u001b[37m\u001b[0m \u001b[1m6s\u001b[0m 454us/step - loss: 1.7177 - val_loss: 1.7398\n",
      "Epoch 17/100\n",
      "\u001b[1m14057/14057\u001b[0m \u001b[32m━━━━━━━━━━━━━━━━━━━━\u001b[0m\u001b[37m\u001b[0m \u001b[1m6s\u001b[0m 436us/step - loss: 1.7165 - val_loss: 1.7393\n",
      "Epoch 18/100\n",
      "\u001b[1m14057/14057\u001b[0m \u001b[32m━━━━━━━━━━━━━━━━━━━━\u001b[0m\u001b[37m\u001b[0m \u001b[1m6s\u001b[0m 443us/step - loss: 1.7160 - val_loss: 1.7376\n",
      "Epoch 19/100\n",
      "\u001b[1m14057/14057\u001b[0m \u001b[32m━━━━━━━━━━━━━━━━━━━━\u001b[0m\u001b[37m\u001b[0m \u001b[1m7s\u001b[0m 492us/step - loss: 1.7094 - val_loss: 1.7422\n",
      "Epoch 20/100\n",
      "\u001b[1m14057/14057\u001b[0m \u001b[32m━━━━━━━━━━━━━━━━━━━━\u001b[0m\u001b[37m\u001b[0m \u001b[1m6s\u001b[0m 446us/step - loss: 1.7079 - val_loss: 1.7326\n",
      "Epoch 21/100\n",
      "\u001b[1m14057/14057\u001b[0m \u001b[32m━━━━━━━━━━━━━━━━━━━━\u001b[0m\u001b[37m\u001b[0m \u001b[1m7s\u001b[0m 476us/step - loss: 1.7076 - val_loss: 1.7360\n",
      "Epoch 22/100\n",
      "\u001b[1m14057/14057\u001b[0m \u001b[32m━━━━━━━━━━━━━━━━━━━━\u001b[0m\u001b[37m\u001b[0m \u001b[1m6s\u001b[0m 432us/step - loss: 1.7030 - val_loss: 1.7370\n",
      "Epoch 23/100\n",
      "\u001b[1m14057/14057\u001b[0m \u001b[32m━━━━━━━━━━━━━━━━━━━━\u001b[0m\u001b[37m\u001b[0m \u001b[1m6s\u001b[0m 428us/step - loss: 1.7033 - val_loss: 1.7331\n",
      "Epoch 24/100\n",
      "\u001b[1m14057/14057\u001b[0m \u001b[32m━━━━━━━━━━━━━━━━━━━━\u001b[0m\u001b[37m\u001b[0m \u001b[1m6s\u001b[0m 414us/step - loss: 1.7056 - val_loss: 1.7352\n",
      "Epoch 25/100\n",
      "\u001b[1m14057/14057\u001b[0m \u001b[32m━━━━━━━━━━━━━━━━━━━━\u001b[0m\u001b[37m\u001b[0m \u001b[1m6s\u001b[0m 409us/step - loss: 1.6994 - val_loss: 1.7331\n",
      "Epoch 26/100\n",
      "\u001b[1m14057/14057\u001b[0m \u001b[32m━━━━━━━━━━━━━━━━━━━━\u001b[0m\u001b[37m\u001b[0m \u001b[1m6s\u001b[0m 436us/step - loss: 1.6993 - val_loss: 1.7310\n",
      "Epoch 27/100\n",
      "\u001b[1m14057/14057\u001b[0m \u001b[32m━━━━━━━━━━━━━━━━━━━━\u001b[0m\u001b[37m\u001b[0m \u001b[1m6s\u001b[0m 430us/step - loss: 1.6972 - val_loss: 1.7349\n",
      "Epoch 28/100\n",
      "\u001b[1m14057/14057\u001b[0m \u001b[32m━━━━━━━━━━━━━━━━━━━━\u001b[0m\u001b[37m\u001b[0m \u001b[1m6s\u001b[0m 420us/step - loss: 1.6975 - val_loss: 1.7329\n",
      "Epoch 29/100\n",
      "\u001b[1m14057/14057\u001b[0m \u001b[32m━━━━━━━━━━━━━━━━━━━━\u001b[0m\u001b[37m\u001b[0m \u001b[1m6s\u001b[0m 412us/step - loss: 1.6976 - val_loss: 1.7341\n",
      "Epoch 30/100\n",
      "\u001b[1m14057/14057\u001b[0m \u001b[32m━━━━━━━━━━━━━━━━━━━━\u001b[0m\u001b[37m\u001b[0m \u001b[1m6s\u001b[0m 414us/step - loss: 1.6959 - val_loss: 1.7303\n",
      "Epoch 31/100\n",
      "\u001b[1m14057/14057\u001b[0m \u001b[32m━━━━━━━━━━━━━━━━━━━━\u001b[0m\u001b[37m\u001b[0m \u001b[1m6s\u001b[0m 416us/step - loss: 1.6978 - val_loss: 1.7363\n",
      "Epoch 32/100\n",
      "\u001b[1m14057/14057\u001b[0m \u001b[32m━━━━━━━━━━━━━━━━━━━━\u001b[0m\u001b[37m\u001b[0m \u001b[1m6s\u001b[0m 436us/step - loss: 1.6949 - val_loss: 1.7303\n",
      "Epoch 33/100\n",
      "\u001b[1m14057/14057\u001b[0m \u001b[32m━━━━━━━━━━━━━━━━━━━━\u001b[0m\u001b[37m\u001b[0m \u001b[1m6s\u001b[0m 413us/step - loss: 1.6970 - val_loss: 1.7283\n",
      "Epoch 34/100\n",
      "\u001b[1m14057/14057\u001b[0m \u001b[32m━━━━━━━━━━━━━━━━━━━━\u001b[0m\u001b[37m\u001b[0m \u001b[1m6s\u001b[0m 412us/step - loss: 1.6944 - val_loss: 1.7282\n",
      "Epoch 35/100\n",
      "\u001b[1m14057/14057\u001b[0m \u001b[32m━━━━━━━━━━━━━━━━━━━━\u001b[0m\u001b[37m\u001b[0m \u001b[1m6s\u001b[0m 415us/step - loss: 1.6925 - val_loss: 1.7263\n",
      "Epoch 36/100\n",
      "\u001b[1m14057/14057\u001b[0m \u001b[32m━━━━━━━━━━━━━━━━━━━━\u001b[0m\u001b[37m\u001b[0m \u001b[1m6s\u001b[0m 413us/step - loss: 1.6928 - val_loss: 1.7277\n",
      "Epoch 37/100\n",
      "\u001b[1m14057/14057\u001b[0m \u001b[32m━━━━━━━━━━━━━━━━━━━━\u001b[0m\u001b[37m\u001b[0m \u001b[1m6s\u001b[0m 438us/step - loss: 1.6964 - val_loss: 1.7279\n",
      "Epoch 38/100\n",
      "\u001b[1m14057/14057\u001b[0m \u001b[32m━━━━━━━━━━━━━━━━━━━━\u001b[0m\u001b[37m\u001b[0m \u001b[1m6s\u001b[0m 415us/step - loss: 1.6955 - val_loss: 1.7293\n",
      "Epoch 39/100\n",
      "\u001b[1m14057/14057\u001b[0m \u001b[32m━━━━━━━━━━━━━━━━━━━━\u001b[0m\u001b[37m\u001b[0m \u001b[1m6s\u001b[0m 413us/step - loss: 1.6975 - val_loss: 1.7249\n",
      "Epoch 40/100\n",
      "\u001b[1m14057/14057\u001b[0m \u001b[32m━━━━━━━━━━━━━━━━━━━━\u001b[0m\u001b[37m\u001b[0m \u001b[1m6s\u001b[0m 412us/step - loss: 1.6899 - val_loss: 1.7254\n",
      "Epoch 41/100\n",
      "\u001b[1m14057/14057\u001b[0m \u001b[32m━━━━━━━━━━━━━━━━━━━━\u001b[0m\u001b[37m\u001b[0m \u001b[1m6s\u001b[0m 417us/step - loss: 1.6931 - val_loss: 1.7252\n",
      "Epoch 42/100\n",
      "\u001b[1m14057/14057\u001b[0m \u001b[32m━━━━━━━━━━━━━━━━━━━━\u001b[0m\u001b[37m\u001b[0m \u001b[1m6s\u001b[0m 432us/step - loss: 1.6907 - val_loss: 1.7267\n",
      "Epoch 43/100\n",
      "\u001b[1m14057/14057\u001b[0m \u001b[32m━━━━━━━━━━━━━━━━━━━━\u001b[0m\u001b[37m\u001b[0m \u001b[1m6s\u001b[0m 425us/step - loss: 1.6903 - val_loss: 1.7229\n",
      "Epoch 44/100\n",
      "\u001b[1m14057/14057\u001b[0m \u001b[32m━━━━━━━━━━━━━━━━━━━━\u001b[0m\u001b[37m\u001b[0m \u001b[1m6s\u001b[0m 412us/step - loss: 1.6927 - val_loss: 1.7313\n",
      "Epoch 45/100\n",
      "\u001b[1m14057/14057\u001b[0m \u001b[32m━━━━━━━━━━━━━━━━━━━━\u001b[0m\u001b[37m\u001b[0m \u001b[1m7s\u001b[0m 471us/step - loss: 1.6915 - val_loss: 1.7372\n",
      "Epoch 46/100\n",
      "\u001b[1m14057/14057\u001b[0m \u001b[32m━━━━━━━━━━━━━━━━━━━━\u001b[0m\u001b[37m\u001b[0m \u001b[1m7s\u001b[0m 523us/step - loss: 1.6911 - val_loss: 1.7286\n",
      "Epoch 47/100\n",
      "\u001b[1m14057/14057\u001b[0m \u001b[32m━━━━━━━━━━━━━━━━━━━━\u001b[0m\u001b[37m\u001b[0m \u001b[1m6s\u001b[0m 424us/step - loss: 1.6896 - val_loss: 1.7298\n",
      "Epoch 48/100\n",
      "\u001b[1m14057/14057\u001b[0m \u001b[32m━━━━━━━━━━━━━━━━━━━━\u001b[0m\u001b[37m\u001b[0m \u001b[1m6s\u001b[0m 450us/step - loss: 1.6880 - val_loss: 1.7292\n",
      "Epoch 49/100\n",
      "\u001b[1m14057/14057\u001b[0m \u001b[32m━━━━━━━━━━━━━━━━━━━━\u001b[0m\u001b[37m\u001b[0m \u001b[1m6s\u001b[0m 416us/step - loss: 1.6900 - val_loss: 1.7283\n",
      "Epoch 50/100\n",
      "\u001b[1m14057/14057\u001b[0m \u001b[32m━━━━━━━━━━━━━━━━━━━━\u001b[0m\u001b[37m\u001b[0m \u001b[1m6s\u001b[0m 429us/step - loss: 1.6885 - val_loss: 1.7278\n",
      "Epoch 51/100\n",
      "\u001b[1m14057/14057\u001b[0m \u001b[32m━━━━━━━━━━━━━━━━━━━━\u001b[0m\u001b[37m\u001b[0m \u001b[1m6s\u001b[0m 433us/step - loss: 1.6852 - val_loss: 1.7236\n",
      "Epoch 52/100\n",
      "\u001b[1m14057/14057\u001b[0m \u001b[32m━━━━━━━━━━━━━━━━━━━━\u001b[0m\u001b[37m\u001b[0m \u001b[1m6s\u001b[0m 430us/step - loss: 1.6849 - val_loss: 1.7269\n",
      "Epoch 53/100\n",
      "\u001b[1m14057/14057\u001b[0m \u001b[32m━━━━━━━━━━━━━━━━━━━━\u001b[0m\u001b[37m\u001b[0m \u001b[1m7s\u001b[0m 487us/step - loss: 1.6864 - val_loss: 1.7276\n",
      "Epoch 54/100\n",
      "\u001b[1m14057/14057\u001b[0m \u001b[32m━━━━━━━━━━━━━━━━━━━━\u001b[0m\u001b[37m\u001b[0m \u001b[1m6s\u001b[0m 459us/step - loss: 1.6874 - val_loss: 1.7266\n",
      "Epoch 55/100\n",
      "\u001b[1m14057/14057\u001b[0m \u001b[32m━━━━━━━━━━━━━━━━━━━━\u001b[0m\u001b[37m\u001b[0m \u001b[1m6s\u001b[0m 456us/step - loss: 1.6869 - val_loss: 1.7250\n",
      "Epoch 56/100\n",
      "\u001b[1m14057/14057\u001b[0m \u001b[32m━━━━━━━━━━━━━━━━━━━━\u001b[0m\u001b[37m\u001b[0m \u001b[1m6s\u001b[0m 455us/step - loss: 1.6847 - val_loss: 1.7249\n",
      "Epoch 57/100\n",
      "\u001b[1m14057/14057\u001b[0m \u001b[32m━━━━━━━━━━━━━━━━━━━━\u001b[0m\u001b[37m\u001b[0m \u001b[1m6s\u001b[0m 452us/step - loss: 1.6867 - val_loss: 1.7253\n",
      "Epoch 58/100\n",
      "\u001b[1m14057/14057\u001b[0m \u001b[32m━━━━━━━━━━━━━━━━━━━━\u001b[0m\u001b[37m\u001b[0m \u001b[1m7s\u001b[0m 470us/step - loss: 1.6832 - val_loss: 1.7264\n",
      "Epoch 59/100\n",
      "\u001b[1m14057/14057\u001b[0m \u001b[32m━━━━━━━━━━━━━━━━━━━━\u001b[0m\u001b[37m\u001b[0m \u001b[1m6s\u001b[0m 459us/step - loss: 1.6858 - val_loss: 1.7276\n",
      "Epoch 60/100\n",
      "\u001b[1m14057/14057\u001b[0m \u001b[32m━━━━━━━━━━━━━━━━━━━━\u001b[0m\u001b[37m\u001b[0m \u001b[1m6s\u001b[0m 450us/step - loss: 1.6839 - val_loss: 1.7290\n",
      "Epoch 61/100\n",
      "\u001b[1m14057/14057\u001b[0m \u001b[32m━━━━━━━━━━━━━━━━━━━━\u001b[0m\u001b[37m\u001b[0m \u001b[1m6s\u001b[0m 451us/step - loss: 1.6825 - val_loss: 1.7244\n",
      "Epoch 62/100\n",
      "\u001b[1m14057/14057\u001b[0m \u001b[32m━━━━━━━━━━━━━━━━━━━━\u001b[0m\u001b[37m\u001b[0m \u001b[1m6s\u001b[0m 452us/step - loss: 1.6835 - val_loss: 1.7218\n",
      "Epoch 63/100\n",
      "\u001b[1m14057/14057\u001b[0m \u001b[32m━━━━━━━━━━━━━━━━━━━━\u001b[0m\u001b[37m\u001b[0m \u001b[1m7s\u001b[0m 502us/step - loss: 1.6894 - val_loss: 1.7260\n",
      "Epoch 64/100\n",
      "\u001b[1m14057/14057\u001b[0m \u001b[32m━━━━━━━━━━━━━━━━━━━━\u001b[0m\u001b[37m\u001b[0m \u001b[1m7s\u001b[0m 488us/step - loss: 1.6867 - val_loss: 1.7240\n",
      "Epoch 65/100\n",
      "\u001b[1m14057/14057\u001b[0m \u001b[32m━━━━━━━━━━━━━━━━━━━━\u001b[0m\u001b[37m\u001b[0m \u001b[1m6s\u001b[0m 440us/step - loss: 1.6840 - val_loss: 1.7214\n",
      "Epoch 66/100\n",
      "\u001b[1m14057/14057\u001b[0m \u001b[32m━━━━━━━━━━━━━━━━━━━━\u001b[0m\u001b[37m\u001b[0m \u001b[1m6s\u001b[0m 454us/step - loss: 1.6835 - val_loss: 1.7250\n",
      "Epoch 67/100\n",
      "\u001b[1m14057/14057\u001b[0m \u001b[32m━━━━━━━━━━━━━━━━━━━━\u001b[0m\u001b[37m\u001b[0m \u001b[1m7s\u001b[0m 476us/step - loss: 1.6831 - val_loss: 1.7214\n",
      "Epoch 68/100\n",
      "\u001b[1m14057/14057\u001b[0m \u001b[32m━━━━━━━━━━━━━━━━━━━━\u001b[0m\u001b[37m\u001b[0m \u001b[1m6s\u001b[0m 455us/step - loss: 1.6840 - val_loss: 1.7256\n",
      "Epoch 69/100\n",
      "\u001b[1m14057/14057\u001b[0m \u001b[32m━━━━━━━━━━━━━━━━━━━━\u001b[0m\u001b[37m\u001b[0m \u001b[1m7s\u001b[0m 487us/step - loss: 1.6851 - val_loss: 1.7214\n",
      "Epoch 70/100\n",
      "\u001b[1m14057/14057\u001b[0m \u001b[32m━━━━━━━━━━━━━━━━━━━━\u001b[0m\u001b[37m\u001b[0m \u001b[1m6s\u001b[0m 451us/step - loss: 1.6812 - val_loss: 1.7198\n",
      "Epoch 71/100\n",
      "\u001b[1m14057/14057\u001b[0m \u001b[32m━━━━━━━━━━━━━━━━━━━━\u001b[0m\u001b[37m\u001b[0m \u001b[1m6s\u001b[0m 437us/step - loss: 1.6811 - val_loss: 1.7248\n",
      "Epoch 72/100\n",
      "\u001b[1m14057/14057\u001b[0m \u001b[32m━━━━━━━━━━━━━━━━━━━━\u001b[0m\u001b[37m\u001b[0m \u001b[1m6s\u001b[0m 434us/step - loss: 1.6823 - val_loss: 1.7257\n",
      "Epoch 73/100\n",
      "\u001b[1m14057/14057\u001b[0m \u001b[32m━━━━━━━━━━━━━━━━━━━━\u001b[0m\u001b[37m\u001b[0m \u001b[1m6s\u001b[0m 433us/step - loss: 1.6808 - val_loss: 1.7229\n",
      "Epoch 74/100\n",
      "\u001b[1m14057/14057\u001b[0m \u001b[32m━━━━━━━━━━━━━━━━━━━━\u001b[0m\u001b[37m\u001b[0m \u001b[1m6s\u001b[0m 432us/step - loss: 1.6844 - val_loss: 1.7258\n",
      "Epoch 75/100\n",
      "\u001b[1m14057/14057\u001b[0m \u001b[32m━━━━━━━━━━━━━━━━━━━━\u001b[0m\u001b[37m\u001b[0m \u001b[1m6s\u001b[0m 432us/step - loss: 1.6777 - val_loss: 1.7249\n",
      "Epoch 76/100\n",
      "\u001b[1m14057/14057\u001b[0m \u001b[32m━━━━━━━━━━━━━━━━━━━━\u001b[0m\u001b[37m\u001b[0m \u001b[1m7s\u001b[0m 489us/step - loss: 1.6844 - val_loss: 1.7225\n",
      "Epoch 77/100\n",
      "\u001b[1m14057/14057\u001b[0m \u001b[32m━━━━━━━━━━━━━━━━━━━━\u001b[0m\u001b[37m\u001b[0m \u001b[1m6s\u001b[0m 456us/step - loss: 1.6801 - val_loss: 1.7237\n",
      "Epoch 78/100\n",
      "\u001b[1m14057/14057\u001b[0m \u001b[32m━━━━━━━━━━━━━━━━━━━━\u001b[0m\u001b[37m\u001b[0m \u001b[1m6s\u001b[0m 445us/step - loss: 1.6786 - val_loss: 1.7232\n",
      "Epoch 79/100\n",
      "\u001b[1m14057/14057\u001b[0m \u001b[32m━━━━━━━━━━━━━━━━━━━━\u001b[0m\u001b[37m\u001b[0m \u001b[1m6s\u001b[0m 438us/step - loss: 1.6811 - val_loss: 1.7250\n",
      "Epoch 80/100\n",
      "\u001b[1m14057/14057\u001b[0m \u001b[32m━━━━━━━━━━━━━━━━━━━━\u001b[0m\u001b[37m\u001b[0m \u001b[1m6s\u001b[0m 424us/step - loss: 1.6839 - val_loss: 1.7234\n",
      "Epoch 81/100\n",
      "\u001b[1m14057/14057\u001b[0m \u001b[32m━━━━━━━━━━━━━━━━━━━━\u001b[0m\u001b[37m\u001b[0m \u001b[1m6s\u001b[0m 453us/step - loss: 1.6815 - val_loss: 1.7254\n",
      "Epoch 82/100\n",
      "\u001b[1m14057/14057\u001b[0m \u001b[32m━━━━━━━━━━━━━━━━━━━━\u001b[0m\u001b[37m\u001b[0m \u001b[1m6s\u001b[0m 425us/step - loss: 1.6789 - val_loss: 1.7253\n",
      "Epoch 83/100\n",
      "\u001b[1m14057/14057\u001b[0m \u001b[32m━━━━━━━━━━━━━━━━━━━━\u001b[0m\u001b[37m\u001b[0m \u001b[1m6s\u001b[0m 435us/step - loss: 1.6803 - val_loss: 1.7221\n",
      "Epoch 84/100\n",
      "\u001b[1m14057/14057\u001b[0m \u001b[32m━━━━━━━━━━━━━━━━━━━━\u001b[0m\u001b[37m\u001b[0m \u001b[1m6s\u001b[0m 457us/step - loss: 1.6773 - val_loss: 1.7211\n",
      "Epoch 85/100\n",
      "\u001b[1m14057/14057\u001b[0m \u001b[32m━━━━━━━━━━━━━━━━━━━━\u001b[0m\u001b[37m\u001b[0m \u001b[1m6s\u001b[0m 438us/step - loss: 1.6780 - val_loss: 1.7203\n",
      "Epoch 86/100\n",
      "\u001b[1m14057/14057\u001b[0m \u001b[32m━━━━━━━━━━━━━━━━━━━━\u001b[0m\u001b[37m\u001b[0m \u001b[1m7s\u001b[0m 506us/step - loss: 1.6794 - val_loss: 1.7235\n",
      "Epoch 87/100\n",
      "\u001b[1m14057/14057\u001b[0m \u001b[32m━━━━━━━━━━━━━━━━━━━━\u001b[0m\u001b[37m\u001b[0m \u001b[1m6s\u001b[0m 438us/step - loss: 1.6802 - val_loss: 1.7218\n",
      "Epoch 88/100\n",
      "\u001b[1m14057/14057\u001b[0m \u001b[32m━━━━━━━━━━━━━━━━━━━━\u001b[0m\u001b[37m\u001b[0m \u001b[1m6s\u001b[0m 441us/step - loss: 1.6809 - val_loss: 1.7215\n",
      "Epoch 89/100\n",
      "\u001b[1m14057/14057\u001b[0m \u001b[32m━━━━━━━━━━━━━━━━━━━━\u001b[0m\u001b[37m\u001b[0m \u001b[1m7s\u001b[0m 461us/step - loss: 1.6825 - val_loss: 1.7182\n",
      "Epoch 90/100\n",
      "\u001b[1m14057/14057\u001b[0m \u001b[32m━━━━━━━━━━━━━━━━━━━━\u001b[0m\u001b[37m\u001b[0m \u001b[1m7s\u001b[0m 470us/step - loss: 1.6823 - val_loss: 1.7247\n",
      "Epoch 91/100\n",
      "\u001b[1m14057/14057\u001b[0m \u001b[32m━━━━━━━━━━━━━━━━━━━━\u001b[0m\u001b[37m\u001b[0m \u001b[1m7s\u001b[0m 470us/step - loss: 1.6827 - val_loss: 1.7231\n",
      "Epoch 92/100\n",
      "\u001b[1m14057/14057\u001b[0m \u001b[32m━━━━━━━━━━━━━━━━━━━━\u001b[0m\u001b[37m\u001b[0m \u001b[1m6s\u001b[0m 450us/step - loss: 1.6780 - val_loss: 1.7202\n",
      "Epoch 93/100\n",
      "\u001b[1m14057/14057\u001b[0m \u001b[32m━━━━━━━━━━━━━━━━━━━━\u001b[0m\u001b[37m\u001b[0m \u001b[1m6s\u001b[0m 436us/step - loss: 1.6784 - val_loss: 1.7264\n",
      "Epoch 94/100\n",
      "\u001b[1m14057/14057\u001b[0m \u001b[32m━━━━━━━━━━━━━━━━━━━━\u001b[0m\u001b[37m\u001b[0m \u001b[1m6s\u001b[0m 439us/step - loss: 1.6786 - val_loss: 1.7196\n",
      "Epoch 95/100\n",
      "\u001b[1m14057/14057\u001b[0m \u001b[32m━━━━━━━━━━━━━━━━━━━━\u001b[0m\u001b[37m\u001b[0m \u001b[1m6s\u001b[0m 449us/step - loss: 1.6767 - val_loss: 1.7236\n",
      "Epoch 96/100\n",
      "\u001b[1m14057/14057\u001b[0m \u001b[32m━━━━━━━━━━━━━━━━━━━━\u001b[0m\u001b[37m\u001b[0m \u001b[1m7s\u001b[0m 468us/step - loss: 1.6802 - val_loss: 1.7254\n",
      "Epoch 97/100\n",
      "\u001b[1m14057/14057\u001b[0m \u001b[32m━━━━━━━━━━━━━━━━━━━━\u001b[0m\u001b[37m\u001b[0m \u001b[1m6s\u001b[0m 438us/step - loss: 1.6803 - val_loss: 1.7218\n",
      "Epoch 98/100\n",
      "\u001b[1m14057/14057\u001b[0m \u001b[32m━━━━━━━━━━━━━━━━━━━━\u001b[0m\u001b[37m\u001b[0m \u001b[1m6s\u001b[0m 447us/step - loss: 1.6820 - val_loss: 1.7228\n",
      "Epoch 99/100\n",
      "\u001b[1m14057/14057\u001b[0m \u001b[32m━━━━━━━━━━━━━━━━━━━━\u001b[0m\u001b[37m\u001b[0m \u001b[1m6s\u001b[0m 439us/step - loss: 1.6762 - val_loss: 1.7241\n",
      "Epoch 100/100\n",
      "\u001b[1m14057/14057\u001b[0m \u001b[32m━━━━━━━━━━━━━━━━━━━━\u001b[0m\u001b[37m\u001b[0m \u001b[1m6s\u001b[0m 456us/step - loss: 1.6802 - val_loss: 1.7226\n"
     ]
    }
   ],
   "source": [
    "model_1.compile(optimizer='adam', loss='sparse_categorical_crossentropy')\n",
    "model_1_compiled = model_1.fit(input_seq_bs, label_bs, epochs=100, batch_size=32, validation_data=(valid_input_seq_bs, valid_label_bs))\n"
   ]
  },
  {
   "cell_type": "code",
   "execution_count": 195,
   "id": "5770de46-d8b1-4a00-b273-39bc765260cf",
   "metadata": {},
   "outputs": [
    {
     "data": {
      "text/plain": [
       "Text(0, 0.5, 'Training Loss ')"
      ]
     },
     "execution_count": 195,
     "metadata": {},
     "output_type": "execute_result"
    },
    {
     "data": {
      "image/png": "[encoded data removed]",
      "text/plain": [
       "<Figure size 640x480 with 1 Axes>"
      ]
     },
     "metadata": {},
     "output_type": "display_data"
    }
   ],
   "source": [
    "loss1 = model_1_compiled.history['loss']\n",
    "plt.figure()\n",
    "plt.plot(loss1)\n",
    "plt.title('Loss with the blocking size = 5')\n",
    "plt.xlabel('Epoch')\n",
    "plt.ylabel('Training Loss ')"
   ]
  },
  {
   "cell_type": "markdown",
   "id": "5adf5e56-563d-40bb-83d7-3c6de59e2d0c",
   "metadata": {},
   "source": [
    "### Prediction based on model without blocking"
   ]
  },
  {
   "cell_type": "code",
   "execution_count": 198,
   "id": "c60459ff-ad7f-424b-89bf-db4685705cf6",
   "metadata": {},
   "outputs": [
    {
     "name": "stdout",
     "output_type": "stream",
     "text": [
      "[31, 1, 72, 50, 63, 69, 1, 68, 64, 62, 54, 1, 69, 57, 50, 69, 1, 69, 57, 54, 1, 68, 69, 50, 69, 54, 67, 1, 69, 57, 54, 1, 68, 69, 67, 54, 54, 69, 1, 69, 57, 54, 1, 68, 69, 50, 69, 54, 67, 1, 69, 57, 54, 1, 68, 69, 67, 54]\n",
      "I want some that the stater the street the stater the stre\n"
     ]
    }
   ],
   "source": [
    "# Inference on the model trained with the block sizing \n",
    "\n",
    "start_char = torch.tensor(encode('I want s', string_to_int))\n",
    "current_char_list = start_char.reshape(1, -1)\n",
    "predicted_text = current_char_list\n",
    "text_len=50\n",
    "for i in range (text_len):\n",
    "    # print('Current charcter list', current_char_list)\n",
    "    predicted_probs = model_1.predict(current_char_list, verbose=0)[0]\n",
    "    next_char = torch.tensor([[np.argmax(predicted_probs)]])\n",
    "    # print('Next predicted character', next_char)\n",
    "    predicted_text = torch.cat((predicted_text, next_char), dim=1)\n",
    "    # print('Predicted text list', predicted_text)\n",
    "    current_char_list = predicted_text[:, -block_size:]\n",
    "\n",
    "predicted_text = predicted_text.tolist()[0]\n",
    "print(predicted_text)\n",
    "predicted_text_decoded = decode(predicted_text, int_to_string)\n",
    "print(predicted_text_decoded)\n",
    "# decoded = decode([next_char], int_to_string)\n",
    "# print(decoded)"
   ]
  },
  {
   "cell_type": "markdown",
   "id": "96d198f4-ac7e-4a9d-a79b-be646a75a904",
   "metadata": {},
   "source": [
    "## Model with blocking and Convolution"
   ]
  },
  {
   "cell_type": "code",
   "execution_count": 213,
   "id": "1927fb48-14df-4b37-ae6c-ab5c2e08c233",
   "metadata": {},
   "outputs": [],
   "source": [
    "# Model including the block sizing \n",
    "embedding_dim = 16\n",
    "model_2 = tf.keras.Sequential([\n",
    "    tf.keras.layers.Embedding(input_dim=vocab_size, output_dim=embedding_dim),  # Embedding layer\n",
    "    tf.keras.layers.LSTM(64, return_sequences=False),  # LSTM layer with 64 units\n",
    "    tf.keras.layers.Dense(64, activation='relu'),  # Dense layer with ReLU activation\n",
    "    tf.keras.layers.Dense(vocab_size, activation='softmax')  # Output layer for prediction\n",
    "])\n"
   ]
  },
  {
   "cell_type": "code",
   "execution_count": 214,
   "id": "e2ba184b-96ec-4a41-be81-952b3ec432b4",
   "metadata": {},
   "outputs": [
    {
     "data": {
      "text/html": [
       "<pre style=\"white-space:pre;overflow-x:auto;line-height:normal;font-family:Menlo,'DejaVu Sans Mono',consolas,'Courier New',monospace\"><span style=\"font-weight: bold\">Model: \"sequential_25\"</span>\n",
       "</pre>\n"
      ],
      "text/plain": [
       "\u001b[1mModel: \"sequential_25\"\u001b[0m\n"
      ]
     },
     "metadata": {},
     "output_type": "display_data"
    },
    {
     "data": {
      "text/html": [
       "<pre style=\"white-space:pre;overflow-x:auto;line-height:normal;font-family:Menlo,'DejaVu Sans Mono',consolas,'Courier New',monospace\">┏━━━━━━━━━━━━━━━━━━━━━━━━━━━━━━━━━┳━━━━━━━━━━━━━━━━━━━━━━━━┳━━━━━━━━━━━━━━━┓\n",
       "┃<span style=\"font-weight: bold\"> Layer (type)                    </span>┃<span style=\"font-weight: bold\"> Output Shape           </span>┃<span style=\"font-weight: bold\">       Param # </span>┃\n",
       "┡━━━━━━━━━━━━━━━━━━━━━━━━━━━━━━━━━╇━━━━━━━━━━━━━━━━━━━━━━━━╇━━━━━━━━━━━━━━━┩\n",
       "│ embedding_25 (<span style=\"color: #0087ff; text-decoration-color: #0087ff\">Embedding</span>)        │ (<span style=\"color: #00af00; text-decoration-color: #00af00\">449820</span>, <span style=\"color: #00af00; text-decoration-color: #00af00\">8</span>, <span style=\"color: #00af00; text-decoration-color: #00af00\">16</span>)        │         <span style=\"color: #00af00; text-decoration-color: #00af00\">1,424</span> │\n",
       "├─────────────────────────────────┼────────────────────────┼───────────────┤\n",
       "│ lstm_1 (<span style=\"color: #0087ff; text-decoration-color: #0087ff\">LSTM</span>)                   │ (<span style=\"color: #00af00; text-decoration-color: #00af00\">449820</span>, <span style=\"color: #00af00; text-decoration-color: #00af00\">64</span>)           │        <span style=\"color: #00af00; text-decoration-color: #00af00\">20,736</span> │\n",
       "├─────────────────────────────────┼────────────────────────┼───────────────┤\n",
       "│ dense_42 (<span style=\"color: #0087ff; text-decoration-color: #0087ff\">Dense</span>)                │ (<span style=\"color: #00af00; text-decoration-color: #00af00\">449820</span>, <span style=\"color: #00af00; text-decoration-color: #00af00\">64</span>)           │         <span style=\"color: #00af00; text-decoration-color: #00af00\">4,160</span> │\n",
       "├─────────────────────────────────┼────────────────────────┼───────────────┤\n",
       "│ dense_43 (<span style=\"color: #0087ff; text-decoration-color: #0087ff\">Dense</span>)                │ (<span style=\"color: #00af00; text-decoration-color: #00af00\">449820</span>, <span style=\"color: #00af00; text-decoration-color: #00af00\">89</span>)           │         <span style=\"color: #00af00; text-decoration-color: #00af00\">5,785</span> │\n",
       "└─────────────────────────────────┴────────────────────────┴───────────────┘\n",
       "</pre>\n"
      ],
      "text/plain": [
       "┏━━━━━━━━━━━━━━━━━━━━━━━━━━━━━━━━━┳━━━━━━━━━━━━━━━━━━━━━━━━┳━━━━━━━━━━━━━━━┓\n",
       "┃\u001b[1m \u001b[0m\u001b[1mLayer (type)                   \u001b[0m\u001b[1m \u001b[0m┃\u001b[1m \u001b[0m\u001b[1mOutput Shape          \u001b[0m\u001b[1m \u001b[0m┃\u001b[1m \u001b[0m\u001b[1m      Param #\u001b[0m\u001b[1m \u001b[0m┃\n",
       "┡━━━━━━━━━━━━━━━━━━━━━━━━━━━━━━━━━╇━━━━━━━━━━━━━━━━━━━━━━━━╇━━━━━━━━━━━━━━━┩\n",
       "│ embedding_25 (\u001b[38;5;33mEmbedding\u001b[0m)        │ (\u001b[38;5;34m449820\u001b[0m, \u001b[38;5;34m8\u001b[0m, \u001b[38;5;34m16\u001b[0m)        │         \u001b[38;5;34m1,424\u001b[0m │\n",
       "├─────────────────────────────────┼────────────────────────┼───────────────┤\n",
       "│ lstm_1 (\u001b[38;5;33mLSTM\u001b[0m)                   │ (\u001b[38;5;34m449820\u001b[0m, \u001b[38;5;34m64\u001b[0m)           │        \u001b[38;5;34m20,736\u001b[0m │\n",
       "├─────────────────────────────────┼────────────────────────┼───────────────┤\n",
       "│ dense_42 (\u001b[38;5;33mDense\u001b[0m)                │ (\u001b[38;5;34m449820\u001b[0m, \u001b[38;5;34m64\u001b[0m)           │         \u001b[38;5;34m4,160\u001b[0m │\n",
       "├─────────────────────────────────┼────────────────────────┼───────────────┤\n",
       "│ dense_43 (\u001b[38;5;33mDense\u001b[0m)                │ (\u001b[38;5;34m449820\u001b[0m, \u001b[38;5;34m89\u001b[0m)           │         \u001b[38;5;34m5,785\u001b[0m │\n",
       "└─────────────────────────────────┴────────────────────────┴───────────────┘\n"
      ]
     },
     "metadata": {},
     "output_type": "display_data"
    },
    {
     "data": {
      "text/html": [
       "<pre style=\"white-space:pre;overflow-x:auto;line-height:normal;font-family:Menlo,'DejaVu Sans Mono',consolas,'Courier New',monospace\"><span style=\"font-weight: bold\"> Total params: </span><span style=\"color: #00af00; text-decoration-color: #00af00\">32,105</span> (125.41 KB)\n",
       "</pre>\n"
      ],
      "text/plain": [
       "\u001b[1m Total params: \u001b[0m\u001b[38;5;34m32,105\u001b[0m (125.41 KB)\n"
      ]
     },
     "metadata": {},
     "output_type": "display_data"
    },
    {
     "data": {
      "text/html": [
       "<pre style=\"white-space:pre;overflow-x:auto;line-height:normal;font-family:Menlo,'DejaVu Sans Mono',consolas,'Courier New',monospace\"><span style=\"font-weight: bold\"> Trainable params: </span><span style=\"color: #00af00; text-decoration-color: #00af00\">32,105</span> (125.41 KB)\n",
       "</pre>\n"
      ],
      "text/plain": [
       "\u001b[1m Trainable params: \u001b[0m\u001b[38;5;34m32,105\u001b[0m (125.41 KB)\n"
      ]
     },
     "metadata": {},
     "output_type": "display_data"
    },
    {
     "data": {
      "text/html": [
       "<pre style=\"white-space:pre;overflow-x:auto;line-height:normal;font-family:Menlo,'DejaVu Sans Mono',consolas,'Courier New',monospace\"><span style=\"font-weight: bold\"> Non-trainable params: </span><span style=\"color: #00af00; text-decoration-color: #00af00\">0</span> (0.00 B)\n",
       "</pre>\n"
      ],
      "text/plain": [
       "\u001b[1m Non-trainable params: \u001b[0m\u001b[38;5;34m0\u001b[0m (0.00 B)\n"
      ]
     },
     "metadata": {},
     "output_type": "display_data"
    }
   ],
   "source": [
    "model_2(input_seq_bs)\n",
    "model_2.summary()"
   ]
  },
  {
   "cell_type": "code",
   "execution_count": 215,
   "id": "3a823587-9667-41cc-87d3-fd0405095a9d",
   "metadata": {},
   "outputs": [
    {
     "name": "stdout",
     "output_type": "stream",
     "text": [
      "Epoch 1/30\n",
      "\u001b[1m14057/14057\u001b[0m \u001b[32m━━━━━━━━━━━━━━━━━━━━\u001b[0m\u001b[37m\u001b[0m \u001b[1m30s\u001b[0m 2ms/step - loss: 2.4418 - val_loss: 1.8477\n",
      "Epoch 2/30\n",
      "\u001b[1m14057/14057\u001b[0m \u001b[32m━━━━━━━━━━━━━━━━━━━━\u001b[0m\u001b[37m\u001b[0m \u001b[1m28s\u001b[0m 2ms/step - loss: 1.8172 - val_loss: 1.7046\n",
      "Epoch 3/30\n",
      "\u001b[1m14057/14057\u001b[0m \u001b[32m━━━━━━━━━━━━━━━━━━━━\u001b[0m\u001b[37m\u001b[0m \u001b[1m28s\u001b[0m 2ms/step - loss: 1.6826 - val_loss: 1.6424\n",
      "Epoch 4/30\n",
      "\u001b[1m14057/14057\u001b[0m \u001b[32m━━━━━━━━━━━━━━━━━━━━\u001b[0m\u001b[37m\u001b[0m \u001b[1m28s\u001b[0m 2ms/step - loss: 1.6156 - val_loss: 1.5989\n",
      "Epoch 5/30\n",
      "\u001b[1m14057/14057\u001b[0m \u001b[32m━━━━━━━━━━━━━━━━━━━━\u001b[0m\u001b[37m\u001b[0m \u001b[1m29s\u001b[0m 2ms/step - loss: 1.5720 - val_loss: 1.5766\n",
      "Epoch 6/30\n",
      "\u001b[1m14057/14057\u001b[0m \u001b[32m━━━━━━━━━━━━━━━━━━━━\u001b[0m\u001b[37m\u001b[0m \u001b[1m30s\u001b[0m 2ms/step - loss: 1.5410 - val_loss: 1.5602\n",
      "Epoch 7/30\n",
      "\u001b[1m14057/14057\u001b[0m \u001b[32m━━━━━━━━━━━━━━━━━━━━\u001b[0m\u001b[37m\u001b[0m \u001b[1m29s\u001b[0m 2ms/step - loss: 1.5192 - val_loss: 1.5562\n",
      "Epoch 8/30\n",
      "\u001b[1m14057/14057\u001b[0m \u001b[32m━━━━━━━━━━━━━━━━━━━━\u001b[0m\u001b[37m\u001b[0m \u001b[1m29s\u001b[0m 2ms/step - loss: 1.5044 - val_loss: 1.5428\n",
      "Epoch 9/30\n",
      "\u001b[1m14057/14057\u001b[0m \u001b[32m━━━━━━━━━━━━━━━━━━━━\u001b[0m\u001b[37m\u001b[0m \u001b[1m29s\u001b[0m 2ms/step - loss: 1.4861 - val_loss: 1.5367\n",
      "Epoch 10/30\n",
      "\u001b[1m14057/14057\u001b[0m \u001b[32m━━━━━━━━━━━━━━━━━━━━\u001b[0m\u001b[37m\u001b[0m \u001b[1m28s\u001b[0m 2ms/step - loss: 1.4794 - val_loss: 1.5359\n",
      "Epoch 11/30\n",
      "\u001b[1m14057/14057\u001b[0m \u001b[32m━━━━━━━━━━━━━━━━━━━━\u001b[0m\u001b[37m\u001b[0m \u001b[1m30s\u001b[0m 2ms/step - loss: 1.4676 - val_loss: 1.5245\n",
      "Epoch 12/30\n",
      "\u001b[1m14057/14057\u001b[0m \u001b[32m━━━━━━━━━━━━━━━━━━━━\u001b[0m\u001b[37m\u001b[0m \u001b[1m28s\u001b[0m 2ms/step - loss: 1.4579 - val_loss: 1.5238\n",
      "Epoch 13/30\n",
      "\u001b[1m14057/14057\u001b[0m \u001b[32m━━━━━━━━━━━━━━━━━━━━\u001b[0m\u001b[37m\u001b[0m \u001b[1m28s\u001b[0m 2ms/step - loss: 1.4504 - val_loss: 1.5246\n",
      "Epoch 14/30\n",
      "\u001b[1m14057/14057\u001b[0m \u001b[32m━━━━━━━━━━━━━━━━━━━━\u001b[0m\u001b[37m\u001b[0m \u001b[1m28s\u001b[0m 2ms/step - loss: 1.4488 - val_loss: 1.5260\n",
      "Epoch 15/30\n",
      "\u001b[1m14057/14057\u001b[0m \u001b[32m━━━━━━━━━━━━━━━━━━━━\u001b[0m\u001b[37m\u001b[0m \u001b[1m28s\u001b[0m 2ms/step - loss: 1.4439 - val_loss: 1.5267\n",
      "Epoch 16/30\n",
      "\u001b[1m14057/14057\u001b[0m \u001b[32m━━━━━━━━━━━━━━━━━━━━\u001b[0m\u001b[37m\u001b[0m \u001b[1m28s\u001b[0m 2ms/step - loss: 1.4382 - val_loss: 1.5176\n",
      "Epoch 17/30\n",
      "\u001b[1m14057/14057\u001b[0m \u001b[32m━━━━━━━━━━━━━━━━━━━━\u001b[0m\u001b[37m\u001b[0m \u001b[1m28s\u001b[0m 2ms/step - loss: 1.4351 - val_loss: 1.5147\n",
      "Epoch 18/30\n",
      "\u001b[1m14057/14057\u001b[0m \u001b[32m━━━━━━━━━━━━━━━━━━━━\u001b[0m\u001b[37m\u001b[0m \u001b[1m929s\u001b[0m 66ms/step - loss: 1.4307 - val_loss: 1.5151\n",
      "Epoch 19/30\n",
      "\u001b[1m14057/14057\u001b[0m \u001b[32m━━━━━━━━━━━━━━━━━━━━\u001b[0m\u001b[37m\u001b[0m \u001b[1m2227s\u001b[0m 158ms/step - loss: 1.4287 - val_loss: 1.5150\n",
      "Epoch 20/30\n",
      "\u001b[1m14057/14057\u001b[0m \u001b[32m━━━━━━━━━━━━━━━━━━━━\u001b[0m\u001b[37m\u001b[0m \u001b[1m928s\u001b[0m 66ms/step - loss: 1.4223 - val_loss: 1.5151\n",
      "Epoch 21/30\n",
      "\u001b[1m14057/14057\u001b[0m \u001b[32m━━━━━━━━━━━━━━━━━━━━\u001b[0m\u001b[37m\u001b[0m \u001b[1m27s\u001b[0m 2ms/step - loss: 1.4228 - val_loss: 1.5168\n",
      "Epoch 22/30\n",
      "\u001b[1m14057/14057\u001b[0m \u001b[32m━━━━━━━━━━━━━━━━━━━━\u001b[0m\u001b[37m\u001b[0m \u001b[1m27s\u001b[0m 2ms/step - loss: 1.4200 - val_loss: 1.5164\n",
      "Epoch 23/30\n",
      "\u001b[1m14057/14057\u001b[0m \u001b[32m━━━━━━━━━━━━━━━━━━━━\u001b[0m\u001b[37m\u001b[0m \u001b[1m28s\u001b[0m 2ms/step - loss: 1.4145 - val_loss: 1.5151\n",
      "Epoch 24/30\n",
      "\u001b[1m14057/14057\u001b[0m \u001b[32m━━━━━━━━━━━━━━━━━━━━\u001b[0m\u001b[37m\u001b[0m \u001b[1m228s\u001b[0m 16ms/step - loss: 1.4143 - val_loss: 1.5178\n",
      "Epoch 25/30\n",
      "\u001b[1m14057/14057\u001b[0m \u001b[32m━━━━━━━━━━━━━━━━━━━━\u001b[0m\u001b[37m\u001b[0m \u001b[1m1380s\u001b[0m 98ms/step - loss: 1.4094 - val_loss: 1.5132\n",
      "Epoch 26/30\n",
      "\u001b[1m14057/14057\u001b[0m \u001b[32m━━━━━━━━━━━━━━━━━━━━\u001b[0m\u001b[37m\u001b[0m \u001b[1m1105s\u001b[0m 79ms/step - loss: 1.4094 - val_loss: 1.5164\n",
      "Epoch 27/30\n",
      "\u001b[1m14057/14057\u001b[0m \u001b[32m━━━━━━━━━━━━━━━━━━━━\u001b[0m\u001b[37m\u001b[0m \u001b[1m27s\u001b[0m 2ms/step - loss: 1.4095 - val_loss: 1.5191\n",
      "Epoch 28/30\n",
      "\u001b[1m14057/14057\u001b[0m \u001b[32m━━━━━━━━━━━━━━━━━━━━\u001b[0m\u001b[37m\u001b[0m \u001b[1m3997s\u001b[0m 284ms/step - loss: 1.4069 - val_loss: 1.5217\n",
      "Epoch 29/30\n",
      "\u001b[1m14057/14057\u001b[0m \u001b[32m━━━━━━━━━━━━━━━━━━━━\u001b[0m\u001b[37m\u001b[0m \u001b[1m930s\u001b[0m 66ms/step - loss: 1.4077 - val_loss: 1.5169\n",
      "Epoch 30/30\n",
      "\u001b[1m14057/14057\u001b[0m \u001b[32m━━━━━━━━━━━━━━━━━━━━\u001b[0m\u001b[37m\u001b[0m \u001b[1m29s\u001b[0m 2ms/step - loss: 1.4081 - val_loss: 1.5124\n"
     ]
    }
   ],
   "source": [
    "model_2.compile(optimizer='adam', loss='sparse_categorical_crossentropy')\n",
    "model_2_compiled = model_2.fit(input_seq_bs, label_bs, epochs=30, batch_size=32, validation_data=(valid_input_seq_bs, valid_label_bs))\n"
   ]
  },
  {
   "cell_type": "code",
   "execution_count": 216,
   "id": "3ed49c75-fe0c-4642-bbcc-63c69a341413",
   "metadata": {},
   "outputs": [
    {
     "data": {
      "text/plain": [
       "Text(0, 0.5, 'Training Loss ')"
      ]
     },
     "execution_count": 216,
     "metadata": {},
     "output_type": "execute_result"
    },
    {
     "data": {
      "image/png": "[encoded data removed]",
      "text/plain": [
       "<Figure size 640x480 with 1 Axes>"
      ]
     },
     "metadata": {},
     "output_type": "display_data"
    }
   ],
   "source": [
    "loss2 = model_2_compiled.history['loss']\n",
    "plt.figure()\n",
    "plt.plot(loss2)\n",
    "plt.title('Loss with the blocking size = 5')\n",
    "plt.xlabel('Epoch')\n",
    "plt.ylabel('Training Loss ')"
   ]
  },
  {
   "cell_type": "code",
   "execution_count": 217,
   "id": "1b6e1b35-638b-49bf-8baa-7ba2b3f28252",
   "metadata": {},
   "outputs": [
    {
     "name": "stdout",
     "output_type": "stream",
     "text": [
      "[31, 1, 72, 50, 63, 69, 1, 68, 64, 1, 69, 57, 54, 1, 68, 69, 67, 54, 54, 69, 1, 64, 55, 1, 69, 57, 54, 1, 68, 69, 67, 54, 54, 69, 1, 64, 55, 1, 69, 57, 54, 1, 68, 69, 67, 54, 54, 69, 1, 64, 55, 1, 69, 57, 54, 1, 68, 69]\n",
      "I want so the street of the street of the street of the st\n"
     ]
    }
   ],
   "source": [
    "# Inference on the model trained with the block sizing \n",
    "\n",
    "start_char = torch.tensor(encode('I want s', string_to_int))\n",
    "current_char_list = start_char.reshape(1, -1)\n",
    "predicted_text = current_char_list\n",
    "text_len=50\n",
    "for i in range (text_len):\n",
    "    # print('Current charcter list', current_char_list)\n",
    "    predicted_probs = model_2.predict(current_char_list, verbose=0)[0]\n",
    "    next_char = torch.tensor([[np.argmax(predicted_probs)]])\n",
    "    # print('Next predicted character', next_char)\n",
    "    predicted_text = torch.cat((predicted_text, next_char), dim=1)\n",
    "    # print('Predicted text list', predicted_text)\n",
    "    current_char_list = predicted_text[:, -block_size:]\n",
    "\n",
    "predicted_text = predicted_text.tolist()[0]\n",
    "print(predicted_text)\n",
    "predicted_text_decoded = decode(predicted_text, int_to_string)\n",
    "print(predicted_text_decoded)\n",
    "# decoded = decode([next_char], int_to_string)\n",
    "# print(decoded)"
   ]
  },
  {
   "cell_type": "code",
   "execution_count": null,
   "id": "562010a6-c196-4e6b-8650-b789a3f841c7",
   "metadata": {},
   "outputs": [],
   "source": []
  }
 ],
 "metadata": {
  "kernelspec": {
   "display_name": "Python 3 (ipykernel)",
   "language": "python",
   "name": "python3"
  },
  "language_info": {
   "codemirror_mode": {
    "name": "ipython",
    "version": 3
   },
   "file_extension": ".py",
   "mimetype": "text/x-python",
   "name": "python",
   "nbconvert_exporter": "python",
   "pygments_lexer": "ipython3",
   "version": "3.11.5"
  }
 },
 "nbformat": 4,
 "nbformat_minor": 5
}
